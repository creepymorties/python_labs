{
 "cells": [
  {
   "cell_type": "markdown",
   "id": "df636e3e-d4d6-45af-9889-0c0cb8281e3a",
   "metadata": {},
   "source": [
    "# Задания"
   ]
  },
  {
   "cell_type": "code",
   "execution_count": 2,
   "metadata": {},
   "outputs": [],
   "source": [
    "from typing import List, Any, Dict, Optional\n",
    "from collections import Counter, namedtuple\n",
    "import itertools\n",
    "import re\n",
    "import dataclasses"
   ]
  },
  {
   "cell_type": "markdown",
   "id": "9797a135-d96b-439c-968a-03e5f46c196f",
   "metadata": {},
   "source": [
    "### Задание 1: <a class=\"anchor\" id=\"task1\"></a>\n",
    "Все пункты нужно ввыполнить с использованием ТОЛЬКО срезов\n",
    "* Получите подстроку 'string' из строки test_string\n",
    "* Получите подстроку 'Just' из строки test_string\n",
    "* Получите подстроку 'simple' из строки test_string\n",
    "* Получите каждый 5 символ из строки test_string\n",
    "* Получите каждый 3 символ из строки test_string, начиная с конца."
   ]
  },
  {
   "cell_type": "code",
   "execution_count": 11,
   "id": "d869fd8a-8bf1-4dc9-9c3d-162744c1da53",
   "metadata": {},
   "outputs": [],
   "source": [
    "test_string = 'Just a simple string'\n",
    "\n",
    "word_string = test_string[-6:]\n",
    "word_just = test_string[0:4]\n",
    "word_simple = test_string[7:13]\n",
    "every_fifth_char = test_string[0::5]\n",
    "every_third_char_from_end = test_string[::-3]"
   ]
  },
  {
   "cell_type": "markdown",
   "id": "c3c5dce5-6ef5-41b7-a2ab-69b2216e7e2b",
   "metadata": {},
   "source": [
    "### Задание 2: <a class=\"anchor\" id=\"task3\"></a>\n",
    "\n",
    "Написать функцию, которая будет приниметь одно значение с логическими типы, а затем ковертировать их в строковые 'True' и 'False' и возвращать эти значения."
   ]
  },
  {
   "cell_type": "code",
   "execution_count": 13,
   "metadata": {},
   "outputs": [
    {
     "data": {
      "text/plain": [
       "'True'"
      ]
     },
     "execution_count": 13,
     "metadata": {},
     "output_type": "execute_result"
    }
   ],
   "source": [
    "def bool_to_str(input: bool) -> str:\n",
    "    return 'True' if input else 'False'\n",
    "\n",
    "bool_to_str(True)"
   ]
  },
  {
   "cell_type": "markdown",
   "id": "d0b3d3b6-67bc-4452-857e-2d833ee5146a",
   "metadata": {},
   "source": [
    "### Задание 3: <a class=\"anchor\" id=\"task3\"></a>\n",
    "\n",
    "Написать функцию, которая будет приниметь одно значение - список. Вычислить разницу между максимальным и минимальным значением и вернуть его."
   ]
  },
  {
   "cell_type": "code",
   "execution_count": 14,
   "metadata": {},
   "outputs": [
    {
     "data": {
      "text/plain": [
       "82"
      ]
     },
     "execution_count": 14,
     "metadata": {},
     "output_type": "execute_result"
    }
   ],
   "source": [
    "\n",
    "def count_diff(input: List[int]) -> int:\n",
    "    return max(input) - min(input)\n",
    "\n",
    "count_diff([1, 17, 83, 2])"
   ]
  },
  {
   "cell_type": "markdown",
   "id": "0b6288de-c3d6-412e-bc1b-67e876feb0cd",
   "metadata": {},
   "source": [
    "### Задание 4: <a class=\"anchor\" id=\"task4\"></a>\n",
    "\n",
    "Написать функцию, которая будет принимать одно значение - число. Функция должна возвращать список всех четных чисел в диапозоне от 1 до полученного числа. В этом задании нужно использовать list comprehension."
   ]
  },
  {
   "cell_type": "code",
   "execution_count": 21,
   "metadata": {},
   "outputs": [
    {
     "data": {
      "text/plain": [
       "[2, 4, 6, 8]"
      ]
     },
     "execution_count": 21,
     "metadata": {},
     "output_type": "execute_result"
    }
   ],
   "source": [
    "def get_even_to_num(input: int) -> List[int]:\n",
    "    return [num for num in range(1, input + 1) if num % 2 == 0]\n",
    "\n",
    "get_even_to_num(8)"
   ]
  },
  {
   "cell_type": "markdown",
   "id": "7eb1f649-cd11-43d0-8e10-eb30c73953af",
   "metadata": {},
   "source": [
    "### Задание 5: <a class=\"anchor\" id=\"task2\"></a>\n",
    "\n",
    "Напишите функцию, который имеет два аргумента - x и y. Функция должна выводить координатный угол, в котором находятся координаты (x, y). \n",
    "Точки внутри координатного угла I имеют положительные абсциссы и ординаты.\n",
    "Точки внутри координатного угла II имеют отрицательные абсциссы и положительные ординаты.\n",
    "Точки внутри координатного угла III имеют отрицательные абсциссы и ординаты\n",
    "Точки внутри координатного угла IV имеют положительные абсциссы и отрицательные ординаты."
   ]
  },
  {
   "cell_type": "code",
   "execution_count": 4,
   "metadata": {},
   "outputs": [
    {
     "name": "stdout",
     "output_type": "stream",
     "text": [
      "2\n",
      "It's impossible to get the coordinate quarter for the Point with one of the coordinates being Zero.\n"
     ]
    }
   ],
   "source": [
    "class Point:\n",
    "\n",
    "    '''\n",
    "    A class representing a Point\n",
    "    '''\n",
    "\n",
    "    def __init__(self, x: int, y: int):\n",
    "        self._x = x\n",
    "        self._y = y\n",
    "\n",
    "    def get_coordinate_quarter(self) -> int:\n",
    "\n",
    "        '''\n",
    "        : return: the coordinate quarter this Point is placed at.\n",
    "        : raise: ValueError if either x or y equals zero. \n",
    "        '''\n",
    "        if self._x == 0 or self._y == 0:\n",
    "            raise ValueError('It\\'s impossible to get the coordinate quarter for the Point with one of the coordinates being Zero.')\n",
    "\n",
    "        if self._x > 0:\n",
    "            return 1 if self._y > 0 else 2\n",
    "        return 3 if self._y < 0 else 4\n",
    "\n",
    "\n",
    "point = Point(x=3, y=-4)\n",
    "print(point.get_coordinate_quarter())\n",
    "\n",
    "point_with_zero = Point(x=0, y=-2)\n",
    "try: \n",
    "    point_with_zero.get_coordinate_quarter()\n",
    "except Exception as ex:\n",
    "    print(ex)\n"
   ]
  },
  {
   "cell_type": "markdown",
   "id": "2675cea1-381b-4fe8-821c-c911609f6375",
   "metadata": {},
   "source": [
    "### Задание 6: <a class=\"anchor\" id=\"task2\"></a>\n",
    "\n",
    "Напишите функцию, которая принимает одно значение - число . Функция должна возвращать строку - полученное число в двоичном виде"
   ]
  },
  {
   "cell_type": "code",
   "execution_count": 12,
   "metadata": {},
   "outputs": [
    {
     "data": {
      "text/plain": [
       "'110'"
      ]
     },
     "execution_count": 12,
     "metadata": {},
     "output_type": "execute_result"
    }
   ],
   "source": [
    "def to_binary(input: int) -> str:\n",
    "    return f'{input:03b}'\n",
    "\n",
    "to_binary(6)"
   ]
  },
  {
   "cell_type": "markdown",
   "id": "e51f0796-696b-4a3e-b0d8-e11ac919160e",
   "metadata": {},
   "source": [
    "### Задание 7:<a class=\"anchor\" id=\"task5\"></a>\n",
    "\n",
    "Написать функцию, которая будет принимать одно значение - список. Список содержит числа. Все числа, кроме двух, повторяются как минимум два раза. Вернуть список из этих двух неповторяющихся чисел"
   ]
  },
  {
   "cell_type": "code",
   "execution_count": 19,
   "metadata": {},
   "outputs": [
    {
     "data": {
      "text/plain": [
       "[5, 8, 1]"
      ]
     },
     "execution_count": 19,
     "metadata": {},
     "output_type": "execute_result"
    }
   ],
   "source": [
    "def get_only_unique(input: List[int]) -> List[int]:\n",
    "    return [num for num, count in Counter(input).items() if count > 1]\n",
    "\n",
    "get_only_unique([5, 8, 4, 8, 1, 13, 5, 76, 1, 3])"
   ]
  },
  {
   "cell_type": "markdown",
   "id": "1a86d698-d2dd-4c8e-9b72-081e5b491d67",
   "metadata": {
    "tags": []
   },
   "source": [
    "### Задание 8: <a class=\"anchor\" id=\"task2\"></a>\n",
    "\n",
    "Напишите функцию, которая принимает два значения - числа **num**, **length** (основное число, количество умножений). Функция должна возвращать список перемножений числа **num** **length** раз. Пример: test_function(7, 5) ➞ [7, 14, 21, 28, 35]"
   ]
  },
  {
   "cell_type": "code",
   "execution_count": 22,
   "metadata": {},
   "outputs": [
    {
     "data": {
      "text/plain": [
       "[7, 14, 21, 28, 35]"
      ]
     },
     "execution_count": 22,
     "metadata": {},
     "output_type": "execute_result"
    }
   ],
   "source": [
    "def multiply_n_times(input_num: int, times_to_multiply: int) -> List[int]:\n",
    "    return [input_num * multiplier for multiplier in range(1, times_to_multiply + 1)]\n",
    "\n",
    "multiply_n_times(7, 5)\n"
   ]
  },
  {
   "cell_type": "markdown",
   "id": "161d9601-6b3c-4d05-87a5-e1a1214ace33",
   "metadata": {},
   "source": [
    "### Задание 9: <a class=\"anchor\" id=\"task6\"></a>\n",
    "\n",
    "Написать функцию, которая будет принимать одно значение - строку. Функция должна возвращать представление полученной строки закодированной азбукой Морзе. Входная строка может содержать буквы как нижнего, так и верхнего регистра. Междк всеми словами присутствует пробел"
   ]
  },
  {
   "cell_type": "code",
   "execution_count": 30,
   "id": "6e6c046b-764c-4b84-8c5d-be391bf3651a",
   "metadata": {},
   "outputs": [
    {
     "data": {
      "text/plain": [
       "'- .... .. ...  .. ...  .-  - . ... -  ... - .-. .. -. --.'"
      ]
     },
     "execution_count": 30,
     "metadata": {},
     "output_type": "execute_result"
    }
   ],
   "source": [
    "char_to_dots = {\n",
    "  'A': '.-', 'B': '-...', 'C': '-.-.', 'D': '-..', 'E': '.', 'F': '..-.',\n",
    "  'G': '--.', 'H': '....', 'I': '..', 'J': '.---', 'K': '-.-', 'L': '.-..',\n",
    "  'M': '--', 'N': '-.', 'O': '---', 'P': '.--.', 'Q': '--.-', 'R': '.-.',\n",
    "  'S': '...', 'T': '-', 'U': '..-', 'V': '...-', 'W': '.--', 'X': '-..-',\n",
    "  'Y': '-.--', 'Z': '--..', ' ': ' ', '0': '-----',\n",
    "  '1': '.----', '2': '..---', '3': '...--', '4': '....-', '5': '.....',\n",
    "  '6': '-....', '7': '--...', '8': '---..', '9': '----.',\n",
    "  '&': '.-...', \"'\": '.----.', '@': '.--.-.', ')': '-.--.-', '(': '-.--.',\n",
    "  ':': '---...', ',': '--..--', '=': '-...-', '!': '-.-.--', '.': '.-.-.-',\n",
    "  '-': '-....-', '+': '.-.-.', '\"': '.-..-.', '?': '..--..', '/': '-..-.'\n",
    "}\n",
    "\n",
    "\n",
    "def convert_to_morse(input: str) -> str:\n",
    "\n",
    "  '''\n",
    "  : params: Any string in English\n",
    "  : return: Morse encoded string with one space between chars and 2 spaces between words.\n",
    "  \n",
    "  '''\n",
    "\n",
    "  seq_to_convert = input.upper().split(' ')\n",
    "  return '  '.join([(lambda x: ' '.join([char_to_dots[char] for char in x]))(word) for word in seq_to_convert])\n",
    "\n",
    "convert_to_morse(\"This is a test string\")\n"
   ]
  },
  {
   "cell_type": "markdown",
   "id": "68697415-e336-4bc2-8ef2-4994885da0d6",
   "metadata": {},
   "source": [
    "### Задание 10: <a class=\"anchor\" id=\"task6\"></a>\n",
    "\n",
    "Написать функцию, которая будет принимать одно значение - список. Функция должна возвращать самое частое значение в списке (встречается > N/2). Пример: test_function([\"A\", \"A\", \"A\", \"B\", \"C\", \"A\"]) ➞ \"A\""
   ]
  },
  {
   "cell_type": "code",
   "execution_count": 34,
   "metadata": {},
   "outputs": [
    {
     "name": "stdout",
     "output_type": "stream",
     "text": [
      "['A', 3]\n",
      "A\n"
     ]
    }
   ],
   "source": [
    "def get_the_most_frequent(input: List[Any]):\n",
    "    '''\n",
    "    : return: function returns the most freuqent item if there is only 1\n",
    "            and a list of items if there are multiple\n",
    "    '''\n",
    "    counted = Counter(input)\n",
    "    max_count = max(counted.values())\n",
    "    most_freq = [key for key, count in counted.items() if count == max_count]\n",
    "    return most_freq[0] if len(most_freq) == 1 else most_freq\n",
    "\n",
    "print(get_the_most_frequent(['A', 3, 3, 'B', 8, 'A']))\n",
    "print(get_the_most_frequent(['A', 3, 'B', 8, 'A']))\n"
   ]
  },
  {
   "cell_type": "markdown",
   "id": "45c23be5",
   "metadata": {},
   "source": [
    "### Задание 11: \n",
    "Создайте функцию для выполнения основных арифметических операций, которая применяет сложение, вычитание, умножение и деление к строковому значению (например, \"12 + 24\" или \"23-21\" или \"12 // 12\" или \"12 * 21\").\n",
    "\n",
    "Здесь у нас есть 1 число, за которым следует пробел, затем оператор, за которым следует другой пробел, и 2 число. Возвращаемое значение должно быть числом.\n",
    "\n",
    "Применение функции eval() не допускается. В случае деления, всякий раз, когда второе число равно \"0\", возвращайте -1."
   ]
  },
  {
   "cell_type": "code",
   "execution_count": 46,
   "metadata": {},
   "outputs": [
    {
     "name": "stdout",
     "output_type": "stream",
     "text": [
      "26\n",
      "391\n",
      "-1\n",
      "64\n",
      "Wrong operator\n"
     ]
    }
   ],
   "source": [
    "Expression = namedtuple('Expression', 'first_operand operator second_operand')\n",
    "\n",
    "class OperationOptions(object):\n",
    "    Sum = '+'\n",
    "    Subtract = '-'\n",
    "    Multiply = '*'\n",
    "    Divide = '//'\n",
    "\n",
    "def perform_operation(input: str) -> int:\n",
    "    \n",
    "    parts = input.split(' ')\n",
    "    exp = Expression(int(parts[0]), parts[1], int(parts[2]))\n",
    "\n",
    "    if exp.operator == OperationOptions.Sum:\n",
    "        return exp.first_operand + exp.second_operand\n",
    "\n",
    "    if exp.operator == OperationOptions.Multiply:\n",
    "        return exp.first_operand * exp.second_operand\n",
    "\n",
    "    if exp.operator == OperationOptions.Subtract:\n",
    "        return exp.first_operand - exp.second_operand\n",
    "\n",
    "    if exp.operator == OperationOptions.Divide:\n",
    "        if exp.second_operand == 0:\n",
    "            return -1\n",
    "        return exp.first_operand // exp.second_operand\n",
    "    \n",
    "    raise ValueError(\"Wrong operator\")\n",
    "\n",
    "\n",
    "print(perform_operation('12 + 14'))\n",
    "print(perform_operation('23 * 17'))\n",
    "print(perform_operation('23 // 0'))\n",
    "print(perform_operation('76 - 12'))\n",
    "try:\n",
    "    perform_operation('23 % 0')\n",
    "except Exception as ex:\n",
    "    print(ex)"
   ]
  },
  {
   "cell_type": "markdown",
   "id": "625a4901",
   "metadata": {},
   "source": [
    "### Задание 12: \n",
    "Напишите функцию, которая принимает список списков и возвращает значение всех символов в нем, где каждый символ добавляет или отнимает что-то от общего балла. Значения символов:\n",
    "\n",
    "* \\# = 5\n",
    "* О = 3\n",
    "* Х = 1\n",
    "* ! = -1\n",
    "* !! = -3\n",
    "* !!! = -5\n",
    "\n",
    "Если итоговый результат отрицательный, верните 0 (например, 3 ``#``, 3 ``!!``, 2 ``!!!`` и ``X`` будет (5 + 5 + 5 - 3 - 3 - 3 - 5 - 5 + 1) = -3, так что верните 0."
   ]
  },
  {
   "cell_type": "code",
   "execution_count": 12,
   "metadata": {},
   "outputs": [
    {
     "name": "stdout",
     "output_type": "stream",
     "text": [
      "11\n",
      "0\n"
     ]
    }
   ],
   "source": [
    "symbol_points = {\n",
    "    '#': 5,\n",
    "    'O': 3,\n",
    "    'X': 1,\n",
    "    '!': -1,\n",
    "    '!!': -3,\n",
    "    '!!!': -5\n",
    "}\n",
    "\n",
    "\n",
    "test_list = [['#', 'O', '!', '!'], ['!!', 'O'], ['#', '#', '!!!']]\n",
    "\n",
    "test_list_negative = [['#', 'O', '!', '!'], ['!!', 'O'], ['#', '!!!', '!!!', '!!!']]\n",
    "\n",
    "def process_symbols(input: List[List[str]]) -> int:\n",
    "    symbol_points_counted: List[str] = sum([symbol_points[symbol] for symbol in list(itertools.chain.from_iterable(input))])\n",
    "    return symbol_points_counted if symbol_points_counted >= 0 else 0\n",
    "\n",
    "\n",
    "print(process_symbols(test_list))\n",
    "print(process_symbols(test_list_negative))\n",
    "\n"
   ]
  },
  {
   "cell_type": "markdown",
   "id": "7f9ab5f3-76cf-4126-96df-2b77b7cc7cb1",
   "metadata": {},
   "source": [
    "### Задание 13: <a class=\"anchor\" id=\"task7\"></a>\n",
    "\n",
    "Написать функцию, которая будет принимать одно значение - строку. Функция определяет свободные и занятые участки пляжа. Строка состоит из двух символов 0 - свободный участок, 1 - занятый участок. Из-за недавних ограничений новый человек не может занять место рядом с другим. Должно быть одно свободное место между двумя людьми, отдыхающими на пляже. Функци должна вернуть число - количество новых людей, которые могут воспользоваться местами на пляже."
   ]
  },
  {
   "cell_type": "code",
   "execution_count": 34,
   "metadata": {},
   "outputs": [
    {
     "data": {
      "text/plain": [
       "2"
      ]
     },
     "execution_count": 34,
     "metadata": {},
     "output_type": "execute_result"
    }
   ],
   "source": [
    "# For this task I assumed that the input string represents a single row on a beach even though it's not clear from the task description.\n",
    "# Thus the start and the end of the input string have only one neighbour \n",
    "\n",
    "\n",
    "\n",
    "test_string = '0101000100'\n",
    "\n",
    "def count_vaccant(input: str) -> int:\n",
    "    \n",
    "    total = 0\n",
    "\n",
    "    # add '00' from edges\n",
    "    double_zeros_on_edges = [m.start() for m in re.compile(\"00\").finditer(input) if m.start() == 0 or m.start() == (len(input) - 2)]\n",
    "    total += len(double_zeros_on_edges)\n",
    "    \n",
    "    # add '000' from anywhere\n",
    "    triple_zeroes = re.findall('000', input)\n",
    "    total += len(triple_zeroes)\n",
    "\n",
    "    return total\n",
    "\n",
    "\n",
    "count_vaccant(test_string)\n",
    "     \n"
   ]
  },
  {
   "cell_type": "markdown",
   "id": "42f0da6e-b9bd-4cec-9045-22522e0bd1a3",
   "metadata": {},
   "source": [
    "### Задание 14: <a class=\"anchor\" id=\"task7\"></a>\n",
    "\n",
    "Написать функцию, которая будет принимать одно значение - строку или список. Необходимо зашифровать строку. Первый элемент строки - код буквы в ascii (например 'a' = 97, a 'A' = 65). Следующий элемент - закодированная с помощью таблицы разница между текущим и предыдущим символом, итд. Если подается список - необходимо расшифровать его. Алгоритм такой же - первое число перекодируется в соответствием с таблицей ascii, второй символ - сумма первого и второго числа перекодированная с помощью таблицы ascii."
   ]
  },
  {
   "cell_type": "code",
   "execution_count": 51,
   "id": "b2be5dd4",
   "metadata": {},
   "outputs": [
    {
     "name": "stdout",
     "output_type": "stream",
     "text": [
      "[72, 29, 7, 0, 3]\n",
      "Hi there!\n"
     ]
    }
   ],
   "source": [
    "# test_function(\"Hello\") ➞ [72, 29, 7, 0, 3]\n",
    "\n",
    "# test_function([ 72, 33, -73, 84, -12, -3, 13, -13, -68 ]) ➞ \"Hi there!\"\n",
    "\n",
    "ascii_value_char = {i: chr(i) for i in range(128)}\n",
    "ascii_char_value = {chr(i): i for i in range(128)}\n",
    "\n",
    "def encrypt_decrypt(input):\n",
    "    \n",
    "    final = []\n",
    "\n",
    "    if type(input) is str:\n",
    "        for ind in range(len(input)):\n",
    "            previous_char = ascii_char_value[input[ind - 1]] if ind != 0 else 0\n",
    "            current_char = ascii_char_value[input[ind]]\n",
    "            encrypted_val = current_char if ind == 0 else max(current_char, previous_char) - min(current_char, previous_char)\n",
    "            final.append(encrypted_val)\n",
    "        return final\n",
    "    if type(input) is list:\n",
    "        buffer_num = 0\n",
    "        for ind in range(len(input)):\n",
    "            current_num = input[ind]\n",
    "            buffer_num = current_num + buffer_num \n",
    "            decrypted_char = ascii_value_char[current_num] if ind == 0 else ascii_value_char[buffer_num]\n",
    "            final.append(decrypted_char)\n",
    "        return ''.join(final)\n",
    "\n",
    "    \n",
    "\n",
    "\n",
    "\n",
    "print(encrypt_decrypt(\"Hello\"))\n",
    "print(encrypt_decrypt([ 72, 33, -73, 84, -12, -3, 13, -13, -68 ]))\n"
   ]
  },
  {
   "cell_type": "markdown",
   "id": "6a1fcab1",
   "metadata": {},
   "source": [
    "### Задание 15:\n",
    "Создайте функцию, которая определяет, может ли c каждого места в концертном заде видеть сцену. С места можно увидеть сцену, если значение этого места (указано во входном списке) строго больше, чем значение перед ним.\n",
    "\n",
    "Каждый может увидеть сцену в примере ниже:\n",
    "\n",
    "``[[1, 2, 3, 2, 1, 1],\n",
    " [2, 4, 4, 3, 2, 2],\n",
    " [5, 5, 5, 5, 4, 4],\n",
    " [6, 6, 7, 6, 5, 5]]``\n",
    "\n",
    "Не все видят сцену:\n",
    "\n",
    "``[[1, 2, 3, 2, 1, 1], \n",
    "  [2, 4, 4, 3, 2, 2], \n",
    "  [5, 5, 5, 10, 4, 4], \n",
    "  [6, 6, 7, 6, 5, 5]]``\n",
    "\n",
    "Функция должна возвращать True, если абсолютно все видят сцену, ичане False"
   ]
  },
  {
   "cell_type": "code",
   "execution_count": 54,
   "metadata": {},
   "outputs": [
    {
     "name": "stdout",
     "output_type": "stream",
     "text": [
      "True\n",
      "False\n"
     ]
    }
   ],
   "source": [
    "test_true = [[1, 2, 3, 2, 1, 1],\n",
    "             [2, 4, 4, 3, 2, 2],\n",
    "             [5, 5, 5, 5, 4, 4],\n",
    "             [6, 6, 7, 6, 5, 5]]\n",
    "\n",
    "test_false = [[1, 2, 3, 2, 1, 1],\n",
    "              [2, 4, 4, 3, 2, 2],\n",
    "              [5, 5, 5, 10, 4, 4],\n",
    "              [6, 6, 7, 6, 5, 5]]\n",
    "\n",
    "\n",
    "def can_all_see_stage(input: List[List[int]]) -> bool:\n",
    "    pairs_to_compare = list(filter(None, [(input[ind], input[ind + 1])\n",
    "                                if ind != (len(input) - 1) else\n",
    "                                (input[ind - 1], input[ind]) if len(input) % 2 != 0 else None\n",
    "                                for ind in range(len(input))]))\n",
    "\n",
    "    for (row_to_compare1, row_to_compare2) in pairs_to_compare:\n",
    "        for (place_score1, place_score2) in list(zip(row_to_compare1, row_to_compare2)):\n",
    "            if place_score2 <= place_score1:\n",
    "                return False\n",
    "\n",
    "    return True\n",
    "\n",
    "print(can_all_see_stage(test_true))\n",
    "print(can_all_see_stage(test_false))"
   ]
  },
  {
   "cell_type": "markdown",
   "id": "319200b1",
   "metadata": {},
   "source": [
    "### Задание 16:\n",
    "Создать функции, которая будет строить лестницу, используя знаки ‘_’ и ‘#’. Положительное значение обозначают, что направление лестницы направленно вверх и вниз для отрицательных значений.\n",
    "Пример\n",
    "\n",
    "``staircase(3) ➞ \"__#\\n_##\\n###\"\n",
    "__#\n",
    "_##\n",
    "###``\n",
    "\n",
    "``staircase(7) ➞ \"______#\\n_____##\\n____###\\n___####\\n__#####\\n_######\\n#######\"\n",
    "______#\n",
    "_____##\n",
    "____###\n",
    "___####\n",
    "__#####\n",
    "_######\n",
    "#######``\n",
    "\n",
    "``staircase(2) ➞ \"_#\\n##\"\n",
    "_#\n",
    "##``\n",
    "\n",
    "``staircase(-8) ➞ \"########\\n_#######\\n__######\\n___#####\\n____####\\n_____###\\n______##\\n_______#\"\n",
    "########\n",
    "_#######\n",
    "__######\n",
    "___#####\n",
    "____####\n",
    "_____###\n",
    "______##\n",
    "_______#``\n",
    "\n",
    "Замечания:\n",
    "Возвращаемая строка дополняется символом перехода на новую строку \\n"
   ]
  },
  {
   "cell_type": "code",
   "execution_count": 57,
   "metadata": {},
   "outputs": [
    {
     "name": "stdout",
     "output_type": "stream",
     "text": [
      "__#\n",
      "_##\n",
      "###\n",
      "#######\n",
      "_######\n",
      "__#####\n",
      "___####\n",
      "____###\n",
      "_____##\n",
      "______#\n"
     ]
    }
   ],
   "source": [
    "def staircase(input: int) -> str:\n",
    "\n",
    "    if input == 0:\n",
    "        raise ValueError('Zero is not supported')\n",
    "\n",
    "    if input > 0:\n",
    "        return '\\n'.join([f'{\"_\" * (input - num)}{\"#\" * num}' for num in range(1, input + 1)])\n",
    "\n",
    "    positive_input = abs(input)\n",
    "    return '\\n'.join([f'{\"_\" * num}{\"#\" * (positive_input - num)}' for num in range(0, positive_input)])\n",
    "\n",
    "print(staircase(3))\n",
    "print(staircase(-7))\n",
    "\n"
   ]
  },
  {
   "cell_type": "markdown",
   "id": "a255ef44",
   "metadata": {},
   "source": [
    "### Задание 17:\n",
    "\n",
    "Имеется строк из символов в нижнем регистре ascii[[\"a\"..\"z\"]]. Нужно сократить строку следующим образом: берется пара соседних символов и если они одинаковы, то они удаляются. Например aab должно превратится в b.\n",
    "Нужно удалить как можно больше символов. Если результирующая строка пустая, нужно вернуть \"Empty String\"\n",
    "\n",
    "Пример:\n",
    "\n",
    "``super_reduced_string(\"aaabccddd\") ➞ \"abd\"``"
   ]
  },
  {
   "cell_type": "code",
   "execution_count": 6,
   "metadata": {},
   "outputs": [
    {
     "name": "stdout",
     "output_type": "stream",
     "text": [
      "abd\n",
      "Empty String\n",
      "Empty String\n"
     ]
    }
   ],
   "source": [
    "@dataclasses.dataclass\n",
    "class ProcessedChar:\n",
    "    def __init__(self, char: str, index: Optional[int], is_removed: bool = False):\n",
    "        self.index = index\n",
    "        self.is_removed = is_removed\n",
    "        self.char = char\n",
    "        self.hash = f'{char}_{index}'\n",
    "\n",
    "test_string_not_empty = \"aaabccddd\"\n",
    "test_string_empty = \"aabbcc\"\n",
    "test_string_multy_steps = \"abba\"\n",
    "\n",
    "def super_reduced_string(input: str):\n",
    "\n",
    "    def process_string_inner(input_inner: str):\n",
    "        \n",
    "        processed_chars: Dict[str, ProcessedChar] = {}\n",
    "\n",
    "        for char_ind in range(len(input_inner)):\n",
    "\n",
    "            next_char_ind = char_ind + 1 if char_ind != len(input_inner) - 1 else None\n",
    "            next_char = input_inner[next_char_ind] if next_char_ind else None\n",
    "\n",
    "            current_char_item = ProcessedChar(char=input_inner[char_ind], index=char_ind)\n",
    "            next_char_item = ProcessedChar(char=next_char, index=next_char_ind)\n",
    "\n",
    "            retrieved_current_char = processed_chars.get(current_char_item.hash)\n",
    "            retrieved_next_char = processed_chars.get(next_char_item.hash)\n",
    "\n",
    "            if retrieved_next_char:\n",
    "                if retrieved_next_char.is_removed:\n",
    "                    continue\n",
    "\n",
    "            if retrieved_current_char:\n",
    "                if retrieved_current_char.is_removed:\n",
    "                    continue\n",
    "\n",
    "            if current_char_item.char == next_char_item.char:\n",
    "                current_char_item.is_removed = True\n",
    "                next_char_item.is_removed = True\n",
    "\n",
    "            processed_chars[current_char_item.hash] = current_char_item\n",
    "            processed_chars[next_char_item.hash] = next_char_item\n",
    "\n",
    "        final_chars = [char.char for char in processed_chars.values() if char.is_removed == False and char.char]\n",
    "        return ''.join(final_chars)\n",
    "\n",
    "    buffer_string = input\n",
    "\n",
    "\n",
    "    while True:\n",
    "\n",
    "        buffer_string = process_string_inner(buffer_string)\n",
    "\n",
    "        if not buffer_string or max(Counter(list(buffer_string)).values()) == 1:\n",
    "            break\n",
    "\n",
    "    return buffer_string if buffer_string else \"Empty String\"  \n",
    "\n",
    "\n",
    "\n",
    "print(super_reduced_string(test_string_not_empty))\n",
    "print(super_reduced_string(test_string_empty))\n",
    "print(super_reduced_string(test_string_multy_steps))\n"
   ]
  },
  {
   "cell_type": "markdown",
   "id": "e848fcd5",
   "metadata": {},
   "source": [
    "### Задание 18:\n",
    "\n",
    "Создать функцию, которая вернет ближайшую к текущей странице главу. Если две главы одинаково близко, то выбирается та, которая находится на большей по порядку странице.\n",
    "Пример\n",
    "\n",
    "``nearest_chapter({\n",
    "  \"Chapter 1\" : 1,\n",
    "  \"Chapter 2\" : 15,\n",
    "  \"Chapter 3\" : 37\n",
    "}, 10) ➞ \"Chapter 2\"``\n",
    "\n",
    "\n",
    "``nearest_chapter({\n",
    "  \"New Beginnings\" : 1,\n",
    "  \"Strange Developments\" : 62,\n",
    "  \"The End?\" : 194,\n",
    "  \"The True Ending\" : 460\n",
    "}, 200) ➞ \"The End?\"``\n",
    "\n",
    "\n",
    "``nearest_chapter({\n",
    "  \"Chapter 1a\" : 1,\n",
    "  \"Chapter 1b\" : 5\n",
    "}, 3) ➞ \"Chapter 1b\"``"
   ]
  },
  {
   "cell_type": "code",
   "execution_count": 67,
   "metadata": {},
   "outputs": [
    {
     "name": "stdout",
     "output_type": "stream",
     "text": [
      "Chapter 2|Chapter 1b|The End?\n"
     ]
    }
   ],
   "source": [
    "\n",
    "ChapterWithGap = namedtuple(\"ChapterWithGap\", \"Chapter Gap\")\n",
    "\n",
    "def nearest_chapter(chapters_pages: Dict[str, int], input_page: int) -> str:\n",
    "    chapters_with_gap = [ChapterWithGap(chapter, abs(input_page - page)) for (chapter, page) in chapters_pages.items()]\n",
    "    chapters_with_min_gaps = [item for item in chapters_with_gap if item.Gap == min(chapters_with_gap, key=lambda x: x.Gap).Gap]\n",
    "    return chapters_with_min_gaps[0].Chapter if len(chapters_with_min_gaps) == 1 else chapters_with_min_gaps[-1].Chapter\n",
    "\n",
    "res1 = nearest_chapter({\n",
    "  \"Chapter 1\" : 1,\n",
    "  \"Chapter 2\" : 15,\n",
    "  \"Chapter 3\" : 37\n",
    "}, 10)\n",
    "\n",
    "res2 = nearest_chapter({\n",
    "  \"Chapter 1a\" : 1,\n",
    "  \"Chapter 1b\" : 5\n",
    "}, 3)\n",
    "\n",
    "res3 = nearest_chapter({\n",
    "  \"New Beginnings\" : 1,\n",
    "  \"Strange Developments\" : 62,\n",
    "  \"The End?\" : 194,\n",
    "  \"The True Ending\" : 460\n",
    "}, 200)\n",
    "\n",
    "print(res1, res2, res3, sep='|')\n",
    "\n"
   ]
  },
  {
   "cell_type": "code",
   "execution_count": null,
   "metadata": {},
   "outputs": [],
   "source": []
  }
 ],
 "metadata": {
  "interpreter": {
   "hash": "b0df82ea881c9a53852770e1b4a5e15e1a7ad9d634968b85d4b9b57d619a62d7"
  },
  "kernelspec": {
   "display_name": "Python 3.7.9 64-bit",
   "name": "python3"
  },
  "language_info": {
   "codemirror_mode": {
    "name": "ipython",
    "version": 3
   },
   "file_extension": ".py",
   "mimetype": "text/x-python",
   "name": "python",
   "nbconvert_exporter": "python",
   "pygments_lexer": "ipython3",
   "version": "3.7.9"
  }
 },
 "nbformat": 4,
 "nbformat_minor": 5
}
